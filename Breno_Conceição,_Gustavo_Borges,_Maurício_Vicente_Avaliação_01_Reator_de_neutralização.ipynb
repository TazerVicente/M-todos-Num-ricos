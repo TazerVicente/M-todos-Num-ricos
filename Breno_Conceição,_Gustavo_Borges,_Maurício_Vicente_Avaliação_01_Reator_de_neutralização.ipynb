{
  "nbformat": 4,
  "nbformat_minor": 0,
  "metadata": {
    "colab": {
      "provenance": []
    },
    "kernelspec": {
      "name": "python3",
      "display_name": "Python 3"
    },
    "language_info": {
      "name": "python"
    }
  },
  "cells": [
    {
      "cell_type": "markdown",
      "source": [
        "[texto do link](https://)# Avaliação 01 - ENGG03\n",
        "\n",
        "## Questão adaptada de [Galan et al. 2004](https://doi.org/10.1016/j.jprocont.2003.10.003)\n",
        "\n",
        "Em um reator de neutralização, uma solução ácida (HCl) com vazão volumétrica $F_a = 1$ L/min e concentração inicial $C_{1,\\text{in}} = 0.0012$ mol HCl/L é neutralizada por uma solução alcalina (NaOH + NaHCO3) com vazão $F_b = 0.82$ L/min e concentrações iniciais $C_{2,\\text{in}} = 0.002$ mol NaOH/L e $C_{3,\\text{in}} = 0.0025$ mol NaHCO3/L.\n",
        "O comportamento dinâmico das concentrações dentro do reator, representado pelas variáveis $x_1$, $x_2$ e $x_3$, pode ser descrito pelo seguinte sistema de equações diferenciais:\n",
        "\\begin{align}\n",
        "\\frac{dx_1}{dt} &= \\frac{Fa\\cdot(C_{1,\\text{in}}-x_1) - Fb\\cdot x_1}{V}\\\\\n",
        "\\frac{dx_2}{dt} &= \\frac{Fb\\cdot(C_{2,\\text{in}}-x_2) - Fa\\cdot x_2}{V}\\\\\n",
        "\\frac{dx_3}{dt} &= \\frac{Fb\\cdot(C_{3,\\text{in}}-x_3) - Fa\\cdot x_3}{V}\n",
        "\\end{align}\n",
        "\n",
        "Além disso, é possível determinar o pH da solução a partir do seguinte sistema de equações algébricas:\n",
        "\n",
        "\\begin{align*}\n",
        "\\text{pH} &= -\\log_{10}(\\xi) \\\\\n",
        "\\xi &= x_1 + \\frac{K_e}{\\xi} + \\frac{K_e\\cdot x_3}{K_e + K_d\\cdot\\xi} - x_2 - x_3\n",
        "\\end{align*}\n",
        "na qual $K_e = 1\\times 10^{-4}$ (mol/L)$^2$ e $K_d = 1\\times 10^{-7}$ mol/L\n",
        "\n",
        "A partir das informações dada, pede-se:\n",
        "\n",
        "1.   No estado estacionário, as concentrações não variam com o tempo. Portanto, calcule os valores das concentrações $x_1$, $x_2$ e $x_3$ e o pH nessas condições.\n",
        "2.   Assumindo a razão $u = \\frac{F_b}{F_a}$, avalie o comportamento do pH para um intervalo de valores de $u$ no intervalo $[0,1]$.\n",
        "\n",
        "  2.1. Dica: Utilize uma variação mínima de $\\Delta u = 0.05$.\n",
        "\n",
        "  2.2. Dica: Construa um gráfico de pH em função de $u$.\n",
        "\n",
        "OBS: Comente seu código de maneira clara e objetiva deixando em evidência para que serve/objetivo de cada função, bilbioteca e variáveis utilizadas."
      ],
      "metadata": {
        "id": "raMvjSSwkHeN"
      }
    },
    {
      "cell_type": "markdown",
      "source": [
        "### Questão 1)\n",
        "\n",
        "\n",
        "---\n",
        "\n"
      ],
      "metadata": {
        "id": "sYcTUGCq6n9e"
      }
    },
    {
      "cell_type": "markdown",
      "source": [
        "Assumindo que o sistema encontra-se em estado estacionário, subentende-se que as variáveis do sistema não variam com o tempo. Logo, suas respectivas derivadas equivalem a zero. Visando utilizar a linguagem Python para resolução do sistema de equações diferenciais, serão importadas para o código a biblioteca `numpy` e a função `fsolve`, as quais servem, respectivamente, para armazenar e manipular arrays multidimensionais e aplicar algoritmos de otimização numérica para solucionar equações não-lineares:"
      ],
      "metadata": {
        "id": "nSxowmh9IXWv"
      }
    },
    {
      "cell_type": "code",
      "source": [
        "import numpy as np\n",
        "from scipy.optimize import fsolve"
      ],
      "metadata": {
        "id": "phPNPauAKD9d"
      },
      "execution_count": null,
      "outputs": []
    },
    {
      "cell_type": "markdown",
      "source": [
        "O próximo passo é definir as subrotinas que representarão, programaticamente, as funções que foram dadas no sistema, permitindo assim que o algoritmo possa encontrar as raízes dessas equações.\n",
        "\n",
        "A começar pela subrotina que retornará as saídas do sistema de equações diferenciais que representam as três concentrações a serem calculadas, chamada aqui de `funcao_concentracoes`. Em relação às variáveis e valores utilizados, considera-se:\n",
        "\n",
        "*   `X` como sendo uma array com os possíveis valores de concentrações - que serão armazenados nas variáveis locais `x1`, `x2` e `x3` - que servirão como as raízes a configurar as soluções do sistema;\n",
        "*   `Fa` e `Fb` sendo as vazões de soluções dentro do reator, valores constantes fornecidos pela questão;\n",
        "*   `c1i`, `c2i` e `c3i` como as concentrações iniciais de, respectivamente, HCl, NaOH e NaHCO3\n",
        "\n",
        "As três equações que representam o array de EDO's equivalem às expressões para as quais as variações de concentração ao longo do tempo equivalem a 0, permitindo assim encontrar as suas respectivas raízes, que representarão os valores de concentração objetivados.\n",
        "\n",
        "Dessa forma, têm-se:"
      ],
      "metadata": {
        "id": "MFoKKPjuKKvl"
      }
    },
    {
      "cell_type": "code",
      "source": [
        "def funcao_concentracoes(X, Fa, Fb):\n",
        "    x1 = X[0]\n",
        "    x2 = X[1]\n",
        "    x3 = X[2]\n",
        "\n",
        "    c1i = 0.0012\n",
        "    c2i = 0.0020\n",
        "    c3i = 0.0025\n",
        "\n",
        "\n",
        "    edo = np.array([Fa*(c1i - x1) - Fb*x1,\n",
        "                   Fb*(c2i - x2) - Fa*x2,\n",
        "                    Fb*(c3i - x3) - Fa*x3])\n",
        "    return edo"
      ],
      "metadata": {
        "id": "Yx7SQoycPohn"
      },
      "execution_count": null,
      "outputs": []
    },
    {
      "cell_type": "markdown",
      "source": [
        "Da mesma forma, foi criada a subrotina `funcao_ph`, cujo objetivo é o cálculo da concentração de íons de hidrogênio da solução. Este valor servirá como entrada na função logarítmica que retornará, de fato, o pH da solução.\n",
        "\n",
        "Para a resolução dessa etapa, considera-se que os valores de concentração - `x1`, `x2` e `x3` - já foram encontrados e servirão como constantes, assim como `kd` e `ke`, que são, respectivamente, o coeficiente de molaridade e o coeficiente de molaridade ao quadrado.\n",
        "\n",
        "`Y`, nesse caso, representa a concentração ξ, e está presente como `-Y` ao final da expressão que retorna o valor da função pois, para a resolução do problema, faz-se necessário encontrar o valor mais apropriado de ξ para que toda a expressão seja igual a 0, este sendo a raiz da função:"
      ],
      "metadata": {
        "id": "eAnXVlZOPrfJ"
      }
    },
    {
      "cell_type": "code",
      "source": [
        "def funcao_ph(Y, x1, x2, x3, ke, kd):\n",
        "    return  ((x1) + (ke/Y) + ((ke*x3)/(ke + (Y * kd))) - (x2) - (x3) - Y)"
      ],
      "metadata": {
        "id": "Hb1w2Yl4TEX1"
      },
      "execution_count": null,
      "outputs": []
    },
    {
      "cell_type": "markdown",
      "source": [
        "Passadas as definições de subrotinas que trarão as resoluções almejadas, é declarada a array contendo os possíveis valores iniciais de concentrações das substâncias a compor o sistema. Através de cálculos manuais, estimou-se que as concentrações $x_1$ e $x_3$ teriam valores da ordem de $10^{-3}$, enquanto $x_2$ teria valor da ordem de $10^{-2}$:"
      ],
      "metadata": {
        "id": "qV-ByDdSTHDa"
      }
    },
    {
      "cell_type": "code",
      "source": [
        "X0 = np.array([0.0005, 0.005, 0.0005])"
      ],
      "metadata": {
        "id": "JpgjIuUAUMtz"
      },
      "execution_count": null,
      "outputs": []
    },
    {
      "cell_type": "markdown",
      "source": [
        "Seguidamente, foram declarados os valores de vazão fornecidos pela questão, $F_a = 1 L/min$ e $F_b = 0,82 L/min$:"
      ],
      "metadata": {
        "id": "JEx7txpHUNOL"
      }
    },
    {
      "cell_type": "code",
      "source": [
        "Fa = 1\n",
        "Fb = 0.82"
      ],
      "metadata": {
        "id": "DdcG4quHUfxS"
      },
      "execution_count": null,
      "outputs": []
    },
    {
      "cell_type": "markdown",
      "source": [
        "Como explicitado no início da resolução da questão, a função `fsolve` será utilizada na resolução das equações, recebendo como argumentos a subrotina que retorna o valor da função em questão, os valores iniciais estipulados e os valores para os argumentos que serão constantes.\n",
        "\n",
        "De maneira simples e acessível, a função permite a utilização do método algébrico conhecido como escalonamento para calcular os valores que servem como resolução dos sistemas fornecidos na entrada.\n",
        "\n",
        "Dessa forma, é possível inferir nos valores aproximados das concentrações objetivadas:"
      ],
      "metadata": {
        "id": "p31CEm6EUie0"
      }
    },
    {
      "cell_type": "code",
      "source": [
        "print(\"----------------------Valores de X1, X2 e X3----------------------\")\n",
        "\n",
        "X = fsolve(funcao_concentracoes, X0, args=(Fa, Fb))\n",
        "print(f'x1 = {X[0]:.7f}  x2 = {X[1]:.7f}  x3 = {X[2]:.7f} ')\n",
        "\n",
        "x1 = round(X[0], 7)\n",
        "x2 = round(X[1], 7)\n",
        "x3 = round(X[2], 7)"
      ],
      "metadata": {
        "colab": {
          "base_uri": "https://localhost:8080/"
        },
        "id": "z7JuCs-8VYTz",
        "outputId": "e583f2d6-c6fd-4001-e191-a9d2dfad56b5"
      },
      "execution_count": null,
      "outputs": [
        {
          "output_type": "stream",
          "name": "stdout",
          "text": [
            "----------------------Valores de X1, X2 e X3----------------------\n",
            "x1 = 0.0006593  x2 = 0.0009011  x3 = 0.0011264 \n"
          ]
        }
      ]
    },
    {
      "cell_type": "markdown",
      "source": [
        "Em seguida, foram declarado os valores de molaridade ($K_d$) e molaridade ao quadrado ($K_e$), junto à variável `Y0`, que serve como o valor inicial estipulado para o cálculo do valor aproximado da concentração de íons de hidrogênio da solução. A ordem de grandeza do valor de `Y0` foi definida, assim como on caso das concentrações, a partir de manipulações algébricas manuais, que serão explicitadas posteriormente:"
      ],
      "metadata": {
        "id": "kHgIE2WKVcj9"
      }
    },
    {
      "cell_type": "code",
      "source": [
        "ke = 1e-14\n",
        "kd = 1e-7\n",
        "Y0 = 0.0000000001"
      ],
      "metadata": {
        "id": "7maONeyNW18s"
      },
      "execution_count": null,
      "outputs": []
    },
    {
      "cell_type": "markdown",
      "source": [
        "Tendo os valores devidamente declarados, é possível usar a `fsolve` para encontrar a resolução da função:"
      ],
      "metadata": {
        "id": "Fj-sy-lBW5pd"
      }
    },
    {
      "cell_type": "code",
      "source": [
        "result = fsolve(funcao_ph, Y0, args=(x1,x2,x3,ke,kd))"
      ],
      "metadata": {
        "id": "L34S4k_LW_P7"
      },
      "execution_count": null,
      "outputs": []
    },
    {
      "cell_type": "markdown",
      "source": [
        "A argumentação a respeito do possível valor da concentração de íons de hidrogênio foi feita a partir de manipulações da função de concentração de íons de hidrogênio, com o objetivo de torná-la mais apropriada para resolução manual.\n",
        "\n",
        "Dessa forma, foi possível identificar que ξ possui o comportamento equivalente a um polinômio de terceiro grau, o que torna possível representá-la através de uma função cúbica e ímpar (assimétrica). Com isso, é possível afirmar que suas extremidades estendem-se em direções distintas - um lado da curva cai para valores negativos, enquanto o outro se eleva a valores positivos.\n",
        "\n",
        "Os possíveis valores negativos da função serão desconsiderados, por se tratar de um valor de concentração e, consequentemente, sendo este obrigatoriamente positivo. Além disso, sendo o pH um valor originado de uma função logarítmica, este não assume valores de concentração negativos como entrada.\n",
        "\n",
        "Observando a função cúbica manipulada, percebe-se que `Y` precisa assumir valores muito pequenos - ou, porque não dizer, tender a zero - para que o resultado da função tenda a zero, visto que `Y` é um coeficiente comum a todos os termos da função.\n",
        "\n",
        "Outro parâmetro utilizado para balizar o palpite a respeito do possível valor de `Y` é o fato de ser de conhecimento que o valor de pH irá variar entre 0 e 14. Sendo o pH o logaritmo de base 10 da concentração de íons de hidrogênio, é possível inferir que o possível valor de `Y` localiza-se no intervalo $[10^{-14};1]$. Portanto, afirma-se que `Y` deve ser um valor pequeno, mas não menor que $10^{-14}$.\n",
        "\n",
        "A função utilizada para essa interpretação é dada por `funcao_ph2`, a qual também foi resolvida usando o `fsolve`. Sua resolução é feita a caráter de comprovação, com o objetivo de serem feitas comparações com o resultado da função original dada pela questão:"
      ],
      "metadata": {
        "id": "AdmHpze1XBHZ"
      }
    },
    {
      "cell_type": "code",
      "source": [
        "def funcao_ph2(Y, x1, x2, x3, ke, kd):\n",
        "    return ((Y**3)*(kd) + (Y**2)*(kd*(x1-x2-x3) - ke) + Y*(ke*(x1-x2+kd)) + ke**2)\n",
        "\n",
        "result2 = fsolve(funcao_ph2, Y0, args=(x1,x2,x3,ke,kd))"
      ],
      "metadata": {
        "id": "8D91JSlGZK4h"
      },
      "execution_count": null,
      "outputs": []
    },
    {
      "cell_type": "markdown",
      "source": [
        "Feitas as resoluções, estes valores serão impressos no terminal, para que sejam feitas as considerações finais e validação da argumentação feita:"
      ],
      "metadata": {
        "id": "cphtsUuAZk--"
      }
    },
    {
      "cell_type": "code",
      "source": [
        "print(\"----------------------Valores Aproximados de Csi------------------\")\n",
        "\n",
        "print(f'ξ= {result}')\n",
        "print(f'ξ2= {result2}')"
      ],
      "metadata": {
        "id": "UhIzWPTpafY8",
        "colab": {
          "base_uri": "https://localhost:8080/"
        },
        "outputId": "5f799462-247a-4246-95c4-5e3f7152a796"
      },
      "execution_count": null,
      "outputs": [
        {
          "output_type": "stream",
          "name": "stdout",
          "text": [
            "----------------------Valores Aproximados de Csi------------------\n",
            "ξ= [4.12771488e-11]\n",
            "ξ2= [4.12771488e-11]\n"
          ]
        }
      ]
    },
    {
      "cell_type": "markdown",
      "source": [
        "Sendo ξ a raiz da função original, dada pela questão, e ξ2 a raiz da função cúbica calculada manualmente e utilizada para realizar a argumentação a respeito do possível valor inicial de ξ, a igualdade entre valores valida o raciocínio aplicado, permitindo assim a finalização do debate a respeito do provável valor de concentração dos íons de hidrogênio na substância.\n",
        "\n",
        "Por fim, aplica-se o resultado no método `log10` da biblioteca `numpy`, permitindo assim o cálculo, de fato, do pH da substância:"
      ],
      "metadata": {
        "id": "le0KZU_bajPp"
      }
    },
    {
      "cell_type": "code",
      "source": [
        "print(\"----------------------Valor do pH---------------------------------\")\n",
        "\n",
        "ph = -np.log10(result)\n",
        "print(f'O valor aproximado do pH é = {ph}')"
      ],
      "metadata": {
        "id": "cRYFTR61wxSW",
        "colab": {
          "base_uri": "https://localhost:8080/"
        },
        "outputId": "fdcee632-8947-4c73-ca63-13fc345853fb"
      },
      "execution_count": null,
      "outputs": [
        {
          "output_type": "stream",
          "name": "stdout",
          "text": [
            "----------------------Valor do pH---------------------------------\n",
            "O valor aproximado do pH é = [10.38429031]\n"
          ]
        }
      ]
    },
    {
      "cell_type": "markdown",
      "source": [
        "Finalizando a resolução, são listado abaixo os valores solicitados no enunciado:\n",
        "\n",
        "\n",
        "*   $x_1 \\approx 0.0006593$\n",
        "*   $x_2 \\approx 0,0009011$\n",
        "*   $x_3 \\approx 0,0011264$\n",
        "*   $pH \\approx 10,38429031$"
      ],
      "metadata": {
        "id": "JXTKTwsozYXg"
      }
    },
    {
      "cell_type": "markdown",
      "source": [
        "### Questão 2)"
      ],
      "metadata": {
        "id": "W-ZACLcqizGz"
      }
    },
    {
      "cell_type": "markdown",
      "source": [
        "Para realizar a avaliação de comportamento do pH dentro da faixa descrita no enunciado e a partir de visualizações gráficas, foi adicionada ao código a biblioteca `matplotlib` para criação de uma visualização gráfica a partir do próprio Python. Dentro dessa biblioteca, é possível usar o módulo `pyplot`, responsável por fornecer as funções de criação de gráfico:"
      ],
      "metadata": {
        "id": "r2vBh3b_-o0B"
      }
    },
    {
      "cell_type": "code",
      "source": [
        "import matplotlib.pyplot as plt"
      ],
      "metadata": {
        "id": "mOSUS19z-oLL"
      },
      "execution_count": null,
      "outputs": []
    },
    {
      "cell_type": "markdown",
      "source": [
        "Antes de realizar a plotagem do gráfico, torna-se necessário definir a lógica que será empregada na avaliação do comportamento do pH. Abaixo está a lógica usada para essa questão:\n",
        "\n",
        "*   Primeiro, como recomendado na questão, define-se `u` como um conjunto de vetores num intervalo de [0,1] com Δ = 0.05 e, para o pH, no momento inicial, uma lista nativa vazia do Python:"
      ],
      "metadata": {
        "id": "_Usw228u-v9Q"
      }
    },
    {
      "cell_type": "code",
      "source": [
        "u = np.arange(0, 1, 0.05)\n",
        "ph = []"
      ],
      "metadata": {
        "id": "OO8sJa1F-zBj"
      },
      "execution_count": null,
      "outputs": []
    },
    {
      "cell_type": "markdown",
      "source": [
        "*   Após isso, fora implementada uma estrutura de laço, onde: É gerado um novo valor para Fb advindo da razão u = Fb/Fa; Foram usadas as funções previamente discuidas para gerar valores diferentes de pH; Depois de obter as variações de pH para cada u, é possível selecionar esse valores e prosseguir com a plotagem do gráfico:"
      ],
      "metadata": {
        "id": "nZfJwAl9-3zU"
      }
    },
    {
      "cell_type": "code",
      "source": [
        "for i in u:\n",
        "  Fb = i*Fa\n",
        "  X = fsolve(funcao_concentracoes, X0, args=(Fa, Fb))\n",
        "  x1 = round(X[0], 7)\n",
        "  x2 = round(X[1], 7)\n",
        "  x3 = round(X[2], 7)\n",
        "  Y0 = 0.0000000001\n",
        "  resultado = fsolve(funcao_ph, Y0, args=(x1,x2,x3,ke,kd))\n",
        "  ph.append(-np.log10(resultado))"
      ],
      "metadata": {
        "id": "RogLujZF_CkG"
      },
      "execution_count": null,
      "outputs": []
    },
    {
      "cell_type": "markdown",
      "source": [
        "A Plotagem do gráfico com uso do módulo pyplot para o objetivo esperado se torna muito simples devido a intuitividade do processo:\n",
        "\n",
        "\n",
        "1.   \".plot\" pega os valores das variáveis independente e dependente para gerar um gráfico de dispersão, bem como passa como parâmetro a cor da linha e dos pontos.\n",
        "2.   \".ylim\" define o limite do eixo y do gráfico, \".xlim\" faz o mesmo para x.\n",
        "\n",
        "1.   \".xlabel\" define a legenda do eixo x no gráfico, \".ylabel\" faz o mesmo para y.\n",
        "\n",
        "2.   \".title\" e \".show\" são respectivamente o título do gráfico e a requisção de exbição do gráfico."
      ],
      "metadata": {
        "id": "TqjAGUNltoPU"
      }
    },
    {
      "cell_type": "code",
      "source": [
        "plt.plot(u, ph, 'b-')\n",
        "plt.plot(u, ph, 'rs')\n",
        "plt.ylim(0, 15)\n",
        "plt.xlim(0, 1)\n",
        "plt.xlabel('u')\n",
        "plt.ylabel('pH')\n",
        "plt.title('Gráfico de pH em função de u')\n",
        "plt.show()"
      ],
      "metadata": {
        "colab": {
          "base_uri": "https://localhost:8080/",
          "height": 472
        },
        "id": "z7IxpirO_XVp",
        "outputId": "91c8318c-690a-42d2-ed92-3b255497d7dd"
      },
      "execution_count": null,
      "outputs": [
        {
          "output_type": "display_data",
          "data": {
            "text/plain": [
              "<Figure size 640x480 with 1 Axes>"
            ],
            "image/png": "[encoded data removed]"
          },
          "metadata": {}
        }
      ]
    },
    {
      "cell_type": "markdown",
      "source": [
        "Ao analisar o gráfico gerado acima, é possível observar como a razão entre as vazões das soluções ácida e alcalina afeta o pH da solução resultante à medida que os valores são incrementados. Sendo esperado que o valor encontrado para o pH, dentro da lógica no laço previamente mostrado, aumente a medida que o u for aumentando. Por fim, para o gráfico obtido, dois pontos principais podem ser destacados:\n",
        "\n",
        "1.   Não linearidades no processo:\n",
        "Nos casos em que o processo de neutralização demonstra não linearidades notáveis, como reações químicas não lineares ou mudanças repentinas no comportamento do pH devido a pequenas alterações em u, o gráfico se tornou bem irregular\n",
        "\n",
        "\n",
        "2.   Transição:\n",
        "Certas áreas do gráfico, as regiões de transição, apresentam mudanças repentinas no comportamento do pH como resultado de alterações na composição da solução ou na cinética da reação. Estas transições podem explicar as flutuações abruptas no gráfico.\n",
        "\n",
        "\n"
      ],
      "metadata": {
        "id": "1_FKp9KJ24te"
      }
    }
  ]
}